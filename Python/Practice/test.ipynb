{
 "cells": [
  {
   "cell_type": "code",
   "execution_count": 6,
   "id": "08e9a209",
   "metadata": {},
   "outputs": [
    {
     "name": "stdout",
     "output_type": "stream",
     "text": [
      "rand34:tensor([[ 0.3553, -0.2872, -0.1318,  0.8238],\n",
      "        [ 0.7722, -1.2453, -0.1034,  0.3822],\n",
      "        [ 0.7197, -1.3883, -0.4955, -1.7670]])\n",
      "cumprod:tensor([[ 0.3553, -0.1020,  0.0134,  0.0111],\n",
      "        [ 0.7722, -0.9617,  0.0994,  0.0380],\n",
      "        [ 0.7197, -0.9992,  0.4951, -0.8748]])\n"
     ]
    }
   ],
   "source": [
    "import torch\n",
    "\n",
    "\n",
    "rand34=torch.randn(3,4)\n",
    "print(f'rand34:{rand34}')\n",
    "\n",
    "cumprod=torch.cumprod(rand34,dim=1)\n",
    "print(f'cumprod:{cumprod}')"
   ]
  }
 ],
 "metadata": {
  "kernelspec": {
   "display_name": "Python 3",
   "language": "python",
   "name": "python3"
  },
  "language_info": {
   "codemirror_mode": {
    "name": "ipython",
    "version": 3
   },
   "file_extension": ".py",
   "mimetype": "text/x-python",
   "name": "python",
   "nbconvert_exporter": "python",
   "pygments_lexer": "ipython3",
   "version": "3.12.10"
  }
 },
 "nbformat": 4,
 "nbformat_minor": 5
}
