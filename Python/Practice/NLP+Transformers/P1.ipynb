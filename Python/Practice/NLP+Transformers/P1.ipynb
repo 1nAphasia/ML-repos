{
 "cells": [
  {
   "cell_type": "code",
   "execution_count": 22,
   "id": "05a8559b",
   "metadata": {},
   "outputs": [],
   "source": [
    "from transformers import AutoTokenizer,AutoModelForMaskedLM,AutoConfig,AutoModel"
   ]
  },
  {
   "cell_type": "code",
   "execution_count": 29,
   "id": "c7efabed",
   "metadata": {},
   "outputs": [],
   "source": [
    "MODEL_NAME=\"bert-base-chinese\"\n",
    "\n",
    "tokenizer=AutoTokenizer.from_pretrained(MODEL_NAME)\n",
    "model=AutoModel.from_pretrained(MODEL_NAME)\n",
    "config=AutoConfig.from_pretrained(MODEL_NAME)"
   ]
  },
  {
   "cell_type": "code",
   "execution_count": 27,
   "id": "8a55ed91",
   "metadata": {},
   "outputs": [
    {
     "data": {
      "text/plain": [
       "torch.Size([1, 768])"
      ]
     },
     "execution_count": 27,
     "metadata": {},
     "output_type": "execute_result"
    }
   ],
   "source": [
    "text='我在上海上班'\n",
    "token_ids=tokenizer.encode_plus(\n",
    "    text,padding=\"max_length\",\n",
    "    max_length=30,\n",
    "    add_special_tokens=True,\n",
    "    return_tensors='pt',\n",
    "    return_token_type_ids=True,\n",
    "    return_attention_mask=True\n",
    ")\n",
    "\n",
    "outputs=model(token_ids['input_ids'],token_ids['attention_mask'])\n",
    "\n",
    "\n",
    "last_hidden_state=outputs[0]\n",
    "outputs[0] # Last hidden state\n",
    "outputs[1] # Pooler output\n",
    "\n",
    "cls_embeddings=last_hidden_state[:,0] # 第一个字符CLS的embedding表示,列向量\n",
    "last_hidden_state[:,0].shape"
   ]
  },
  {
   "cell_type": "code",
   "execution_count": 32,
   "id": "9b125b04",
   "metadata": {},
   "outputs": [
    {
     "data": {
      "text/plain": [
       "BertConfig {\n",
       "  \"architectures\": [\n",
       "    \"BertForMaskedLM\"\n",
       "  ],\n",
       "  \"attention_probs_dropout_prob\": 0.1,\n",
       "  \"classifier_dropout\": null,\n",
       "  \"directionality\": \"bidi\",\n",
       "  \"hidden_act\": \"gelu\",\n",
       "  \"hidden_dropout_prob\": 0.1,\n",
       "  \"hidden_size\": 768,\n",
       "  \"initializer_range\": 0.02,\n",
       "  \"intermediate_size\": 3072,\n",
       "  \"layer_norm_eps\": 1e-12,\n",
       "  \"max_position_embeddings\": 512,\n",
       "  \"model_type\": \"bert\",\n",
       "  \"num_attention_heads\": 12,\n",
       "  \"num_hidden_layers\": 12,\n",
       "  \"output_hidden_states\": true,\n",
       "  \"pad_token_id\": 0,\n",
       "  \"pooler_fc_size\": 768,\n",
       "  \"pooler_num_attention_heads\": 12,\n",
       "  \"pooler_num_fc_layers\": 3,\n",
       "  \"pooler_size_per_head\": 128,\n",
       "  \"pooler_type\": \"first_token_transform\",\n",
       "  \"position_embedding_type\": \"absolute\",\n",
       "  \"transformers_version\": \"4.53.2\",\n",
       "  \"type_vocab_size\": 2,\n",
       "  \"use_cache\": true,\n",
       "  \"vocab_size\": 21128\n",
       "}"
      ]
     },
     "execution_count": 32,
     "metadata": {},
     "output_type": "execute_result"
    }
   ],
   "source": [
    "config.update({'output_hidden_states':True})\n",
    "config"
   ]
  },
  {
   "cell_type": "code",
   "execution_count": null,
   "id": "6e80a379",
   "metadata": {},
   "outputs": [],
   "source": [
    "model=AutoModel.from_pretrained(MODEL_NAME,config=config)\n",
    "\n",
    "outputs=model(token_ids['input_ids'],token_ids['token_type_ids'])"
   ]
  },
  {
   "cell_type": "code",
   "execution_count": 33,
   "id": "65e094ae",
   "metadata": {},
   "outputs": [
    {
     "name": "stdout",
     "output_type": "stream",
     "text": [
      "   id answer\n",
      "0  Q1      A\n",
      "1  Q2      B\n",
      "2  Q3      C\n",
      "3  Q4      A\n",
      "4  Q5      C\n"
     ]
    }
   ],
   "source": [
    "A1=\"A\"\n",
    "A2=\"B\"\n",
    "A3=\"C\"\n",
    "A4=\"A\"\n",
    "A5=\"C\"\n",
    "\n",
    "import pandas as pd\n",
    "\n",
    "answer=pd.DataFrame()\n",
    "\n",
    "def save_csv(A1):\n",
    "    df = pd.DataFrame({\"id\":[\"Q1\",\"Q2\",\"Q3\",\"Q4\",\"Q5\"],\"answer\":[A1,A2,A3,A4,A5]})\n",
    "    print(df)\n",
    "    df.to_csv(\"task01.csv\",index=None)\n",
    "save_csv(A1)\n",
    "\n"
   ]
  },
  {
   "cell_type": "code",
   "execution_count": null,
   "id": "301abb47",
   "metadata": {},
   "outputs": [],
   "source": [
    "!wget --no-check-certificate -nv -O heywhale_submit https://cdn.kesci.com/submit_tool/v4/heywhale_submit&&chmod +x heywhale_submit\n",
    "!./heywhale_submit -token 8fc42339a8da9b7c -file ./task01.csv"
   ]
  }
 ],
 "metadata": {
  "kernelspec": {
   "display_name": "Python 3",
   "language": "python",
   "name": "python3"
  },
  "language_info": {
   "codemirror_mode": {
    "name": "ipython",
    "version": 3
   },
   "file_extension": ".py",
   "mimetype": "text/x-python",
   "name": "python",
   "nbconvert_exporter": "python",
   "pygments_lexer": "ipython3",
   "version": "3.12.10"
  }
 },
 "nbformat": 4,
 "nbformat_minor": 5
}
